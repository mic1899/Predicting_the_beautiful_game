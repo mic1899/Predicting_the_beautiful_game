{
 "cells": [
  {
   "cell_type": "markdown",
   "id": "ea9f21dd-1ee2-4889-b338-aba00cd2f61d",
   "metadata": {},
   "source": [
    "# Introduction"
   ]
  },
  {
   "cell_type": "code",
   "execution_count": 1,
   "id": "5f812349-3a13-4de9-a467-925ca9401d93",
   "metadata": {},
   "outputs": [],
   "source": [
    "# https://www.kaggle.com/competitions/football-match-probability-prediction\n",
    "\n",
    "# Download the Challenge Data:\n",
    "#!download -c football-match-probability-prediction "
   ]
  },
  {
   "cell_type": "markdown",
   "id": "1a52a0a0-02e9-49a0-85ad-f19ce8434e75",
   "metadata": {},
   "source": [
    "# Setup"
   ]
  },
  {
   "cell_type": "code",
   "execution_count": 2,
   "id": "8cfe21fc-ce7d-4549-9137-8ada59818c20",
   "metadata": {},
   "outputs": [
    {
     "name": "stdout",
     "output_type": "stream",
     "text": [
      "Requirement already satisfied: sklearn in /Users/michaelfunke/.pyenv/versions/3.9.8/lib/python3.9/site-packages (0.0)\n",
      "Requirement already satisfied: scikit-learn in /Users/michaelfunke/.pyenv/versions/3.9.8/lib/python3.9/site-packages (from sklearn) (1.0.2)\n",
      "Requirement already satisfied: threadpoolctl>=2.0.0 in /Users/michaelfunke/.pyenv/versions/3.9.8/lib/python3.9/site-packages (from scikit-learn->sklearn) (3.1.0)\n",
      "Requirement already satisfied: scipy>=1.1.0 in /Users/michaelfunke/.pyenv/versions/3.9.8/lib/python3.9/site-packages (from scikit-learn->sklearn) (1.8.0)\n",
      "Requirement already satisfied: numpy>=1.14.6 in /Users/michaelfunke/.pyenv/versions/3.9.8/lib/python3.9/site-packages (from scikit-learn->sklearn) (1.22.3)\n",
      "Requirement already satisfied: joblib>=0.11 in /Users/michaelfunke/.pyenv/versions/3.9.8/lib/python3.9/site-packages (from scikit-learn->sklearn) (1.0.1)\n"
     ]
    }
   ],
   "source": [
    "# Install Missing Packages\n",
    "#!pip install pandas\n",
    "#!pip install pandas-profiling\n",
    "#!pip install ipywidgets\n",
    "#!pip install torch\n",
    "#!pip install pyspark\n",
    "!pip install sklearn"
   ]
  },
  {
   "cell_type": "code",
   "execution_count": 3,
   "id": "aac3b4a7-0136-4611-9bbb-8a7121a403f9",
   "metadata": {},
   "outputs": [],
   "source": [
    "#Load Neccessary Libraries\n",
    "import pandas as pd\n",
    "from pandas_profiling import ProfileReport\n",
    "import numpy as np\n",
    "import torch # Work with it!\n",
    "import pyspark # Work with it!\n",
    "from sklearn.model_selection import train_test_split\n",
    "from sklearn import svm\n",
    "from sklearn.preprocessing import MinMaxScaler\n",
    "from sklearn.metrics import classification_report\n",
    "from sklearn.metrics import ConfusionMatrixDisplay\n",
    "import matplotlib.pyplot as plt\n",
    "%matplotlib inline \n",
    "\n",
    "#Load secondary libraries\n",
    "import warnings\n",
    "warnings.filterwarnings('ignore')\n"
   ]
  },
  {
   "cell_type": "code",
   "execution_count": 4,
   "id": "b8e70797-878c-4774-b6fc-064ce344c196",
   "metadata": {},
   "outputs": [],
   "source": [
    "df_test = pd.read_csv('data/test.csv')\n",
    "df_train = pd.read_csv('data/train.csv', error_bad_lines=False, index_col=False, dtype='unicode')\n",
    "df_train_target_score = pd.read_csv('data/train_target_and_scores.csv')\n",
    "df_sample_submission = pd.read_csv('data/sample_submission.csv')"
   ]
  },
  {
   "cell_type": "markdown",
   "id": "2c3627a8-11ae-496e-8fc2-d7627f15cc94",
   "metadata": {},
   "source": [
    "# Exploratory Data Analysis"
   ]
  },
  {
   "cell_type": "code",
   "execution_count": 5,
   "id": "cd031355-8d81-4445-bf76-21c93c149b34",
   "metadata": {},
   "outputs": [
    {
     "name": "stdout",
     "output_type": "stream",
     "text": [
      "(110938, 190)\n",
      "(110938, 3)\n",
      "(72711, 189)\n",
      "(72711, 4)\n"
     ]
    }
   ],
   "source": [
    "# Info about Dataframe..\n",
    "#df_train.describe()\n",
    "#df_train.info()\n",
    "#df_train.head()\n",
    "#df_train.size\n",
    "print(df_train.shape)\n",
    "print(df_train_target_score.shape)\n",
    "print(df_test.shape)\n",
    "print(df_sample_submission.shape)"
   ]
  },
  {
   "cell_type": "code",
   "execution_count": 6,
   "id": "e47b2017-713f-42a0-82a2-2381b03bc59d",
   "metadata": {},
   "outputs": [],
   "source": [
    "# Grab the columns names\n",
    "df_columns = df_train.columns"
   ]
  },
  {
   "cell_type": "code",
   "execution_count": 7,
   "id": "0d70691b-7bc1-401e-af12-b77716ce4784",
   "metadata": {},
   "outputs": [],
   "source": [
    "# Pandas Profile\n",
    "# Profile reduced to the descriptive columns only\n",
    "#profile = ProfileReport(df_train.iloc[:,0:10], title=\"Pandas Profiling Report\", explorative=False)\n",
    "#profile.to_notebook_iframe()"
   ]
  },
  {
   "cell_type": "markdown",
   "id": "29d469de-2c78-40bb-b527-1c567327531f",
   "metadata": {},
   "source": [
    "## Counting individual target values"
   ]
  },
  {
   "cell_type": "code",
   "execution_count": 8,
   "id": "8e8b7393-6162-45a3-aebe-c22d76d4c9ee",
   "metadata": {},
   "outputs": [
    {
     "name": "stdout",
     "output_type": "stream",
     "text": [
      "home    48113\n",
      "away    35174\n",
      "draw    27651\n",
      "Name: target, dtype: int64\n"
     ]
    },
    {
     "data": {
      "image/png": "[encoded data removed]",
      "text/plain": [
       "<Figure size 432x288 with 1 Axes>"
      ]
     },
     "metadata": {},
     "output_type": "display_data"
    }
   ],
   "source": [
    "sizes = df_train.target.value_counts()\n",
    "print(sizes)\n",
    "\n",
    "# Pie chart, where the slices will be ordered and plotted counter-clockwise:\n",
    "labels = 'home', 'away', 'draw'\n",
    "\n",
    "explode = (0, 0, 0)  # only \"explode\" the 2nd slice (i.e. 'Hogs')\n",
    "\n",
    "fig1, ax1 = plt.subplots()\n",
    "ax1.pie(sizes, explode=explode, labels=labels, autopct='%1.1f%%',\n",
    "        shadow=True, startangle=90, pctdistance=0.4, labeldistance=0.7)\n",
    "ax1.axis('equal')  # Equal aspect ratio ensures that pie is drawn as a circle.\n",
    "\n",
    "plt.show()"
   ]
  },
  {
   "cell_type": "markdown",
   "id": "0b4adfd8-e02c-4470-acb1-9e2bda24c684",
   "metadata": {},
   "source": [
    "# Feature Engineering"
   ]
  },
  {
   "cell_type": "markdown",
   "id": "9974b25c-bafe-49dd-a955-58013cf85e12",
   "metadata": {},
   "source": [
    "## Missing Values"
   ]
  },
  {
   "cell_type": "code",
   "execution_count": 22,
   "id": "8f116a6f-b5f5-4d83-9c8f-fd243c010811",
   "metadata": {},
   "outputs": [
    {
     "name": "stdout",
     "output_type": "stream",
     "text": [
      "id                                    0\n",
      "target                                0\n",
      "home_team_name                        1\n",
      "away_team_name                        1\n",
      "match_date                            0\n",
      "                                  ...  \n",
      "away_team_history_league_id_6      8426\n",
      "away_team_history_league_id_7      9867\n",
      "away_team_history_league_id_8     11295\n",
      "away_team_history_league_id_9     12762\n",
      "away_team_history_league_id_10    14216\n",
      "Length: 190, dtype: int64\n",
      "\n",
      "Full dataframe contains 110938 number of lines\n",
      "NaN removed dataframe contains 64117 number of lines\n",
      "Through removing NaNs dataframe length only 58 %\n"
     ]
    }
   ],
   "source": [
    "#print(df_train.isna().sum())\n",
    "print(\"Full dataframe contains \"+ str(len(df_train)) + \" number of lines\")\n",
    "df_train_woNaN = df_train.dropna()\n",
    "print(\"NaN removed dataframe contains \"+ str(len(df_train_woNaN)) + \" number of lines\")\n",
    "print(\"Through removing NaNs dataframe length is only \" + str(round(len(df_train_woNaN)/len(df_train)*100)) + \" %\")"
   ]
  },
  {
   "cell_type": "code",
   "execution_count": null,
   "id": "f8c9d561-1dce-4e1d-b59c-0ed9a4cb4ba6",
   "metadata": {},
   "outputs": [],
   "source": [
    "#df_train.fillna(1.0, inplace=True)"
   ]
  },
  {
   "cell_type": "code",
   "execution_count": null,
   "id": "a655441f-0276-4468-a18a-acc7471a6985",
   "metadata": {},
   "outputs": [],
   "source": [
    "#df_train.isna().sum()"
   ]
  },
  {
   "cell_type": "code",
   "execution_count": 48,
   "id": "1a365933-369f-43d5-865a-1aec3f9e56a6",
   "metadata": {},
   "outputs": [
    {
     "data": {
      "text/plain": [
       "id                                      0\n",
       "target                                  0\n",
       "home_team_name                          0\n",
       "away_team_name                          0\n",
       "home_team_history_is_play_home_1        0\n",
       "                                       ..\n",
       "away_team_history_opponent_rating_6     0\n",
       "away_team_history_opponent_rating_7     0\n",
       "away_team_history_opponent_rating_8     0\n",
       "away_team_history_opponent_rating_9     0\n",
       "away_team_history_opponent_rating_10    0\n",
       "Length: 104, dtype: int64"
      ]
     },
     "execution_count": 48,
     "metadata": {},
     "output_type": "execute_result"
    }
   ],
   "source": [
    "df_train_woNaN.home_team_history_goal_1.unique()\n",
    "df_train_woNaN.isna().sum()"
   ]
  },
  {
   "cell_type": "code",
   "execution_count": 49,
   "id": "269ae2c6-bab5-4f9a-ae9a-79d04e046299",
   "metadata": {},
   "outputs": [
    {
     "name": "stdout",
     "output_type": "stream",
     "text": [
      "float64\n",
      "float64\n",
      "int64\n"
     ]
    }
   ],
   "source": [
    "# Where possible make columns as integer\n",
    "df_train_woNaN.home_team_history_goal_1 = df_train_woNaN.home_team_history_goal_1.astype('float')\n",
    "df_train_woNaN.home_team_history_goal_1 = df_train_woNaN.home_team_history_goal_1.astype('int')\n",
    "print(df_train_woNaN.home_team_history_goal_1.dtype)\n",
    "#x = df_train.home_team_history_goal_1.value_counts().sort_index()\n",
    "#plt.bar(x.index,x, tick_label=x.index)"
   ]
  },
  {
   "cell_type": "code",
   "execution_count": 23,
   "id": "4385a841-2eb5-4d26-8aff-b492f900231f",
   "metadata": {},
   "outputs": [],
   "source": [
    "df = df_train_woNaN"
   ]
  },
  {
   "cell_type": "code",
   "execution_count": null,
   "id": "70d56a0a-647c-47dd-ad94-a27b31bcf0b9",
   "metadata": {},
   "outputs": [],
   "source": [
    "\n",
    "\n",
    "# home_team_history_is_cup_{i} - If 1, the match was a cup competition.\n",
    "# home_team_history_goal_{i} - The number of goals scored by the Home team on its last i-th match.\n",
    "# home_team_history_opponent_goal_{i} - The number of goals conceded by the Home team on its last i-th match.\n",
    "# home_team_history_rating_{i} - The rating of the Home team on its last i-th match (pre match rating).\n",
    "# home_team_history_opponent_rating_{i} - The rating of the opponent team on Home team last i-th match (pre match rating).\n",
    "# home_team_history_coach_{i} - The coach id of the Home team on its last i-th match.\n",
    "# home_team_history_league_id_{i} - The league name id by the Home team on its last i-th match."
   ]
  },
  {
   "cell_type": "code",
   "execution_count": 100,
   "id": "d1837dfe-c3d3-44fa-ac61-e4126d796804",
   "metadata": {},
   "outputs": [
    {
     "name": "stdout",
     "output_type": "stream",
     "text": [
      "1    45812\n",
      "0    18305\n",
      "Name: home_team_history_is_play_home_1, dtype: int64\n",
      "1    45812\n",
      "0    18305\n",
      "Name: away_team_history_is_play_home_1, dtype: int64\n",
      "int64\n",
      "int64\n",
      "1    36627\n",
      "0    27490\n",
      "Name: home_team_history_is_play_home_2, dtype: int64\n",
      "0    36401\n",
      "1    27716\n",
      "Name: away_team_history_is_play_home_2, dtype: int64\n",
      "int64\n",
      "int64\n",
      "0    34634\n",
      "1    29483\n",
      "Name: home_team_history_is_play_home_3, dtype: int64\n",
      "1    34679\n",
      "0    29438\n",
      "Name: away_team_history_is_play_home_3, dtype: int64\n",
      "int64\n",
      "int64\n",
      "1    33468\n",
      "0    30649\n",
      "Name: home_team_history_is_play_home_4, dtype: int64\n",
      "0    33304\n",
      "1    30813\n",
      "Name: away_team_history_is_play_home_4, dtype: int64\n",
      "int64\n",
      "int64\n",
      "0    33091\n",
      "1    31026\n",
      "Name: home_team_history_is_play_home_5, dtype: int64\n",
      "1    33203\n",
      "0    30914\n",
      "Name: away_team_history_is_play_home_5, dtype: int64\n",
      "int64\n",
      "int64\n",
      "1    32420\n",
      "0    31697\n",
      "Name: home_team_history_is_play_home_6, dtype: int64\n",
      "0    32473\n",
      "1    31644\n",
      "Name: away_team_history_is_play_home_6, dtype: int64\n",
      "int64\n",
      "int64\n",
      "0    32443\n",
      "1    31674\n",
      "Name: home_team_history_is_play_home_7, dtype: int64\n",
      "1    32468\n",
      "0    31649\n",
      "Name: away_team_history_is_play_home_7, dtype: int64\n",
      "int64\n",
      "int64\n",
      "1    32188\n",
      "0    31929\n",
      "Name: home_team_history_is_play_home_8, dtype: int64\n",
      "0    32115\n",
      "1    32002\n",
      "Name: away_team_history_is_play_home_8, dtype: int64\n",
      "int64\n",
      "int64\n",
      "0    32124\n",
      "1    31993\n",
      "Name: home_team_history_is_play_home_9, dtype: int64\n",
      "1    32177\n",
      "0    31940\n",
      "Name: away_team_history_is_play_home_9, dtype: int64\n",
      "int64\n",
      "int64\n",
      "0    32280\n",
      "1    31837\n",
      "Name: home_team_history_is_play_home_10, dtype: int64\n",
      "1    32257\n",
      "0    31860\n",
      "Name: away_team_history_is_play_home_10, dtype: int64\n",
      "int64\n",
      "int64\n"
     ]
    }
   ],
   "source": [
    "# Pre Processing History Columns.. \n",
    "# home_team_history_is_play_home_{i} - If 1, the Home team played home.\n",
    "# away_team_history_is_play_home_{i} - If 1, the Away team played home.\n",
    "\n",
    "#df_train_woNaN['home_team_history_is_play_home_1'] = df_train_woNaN['home_team_history_is_play_home_1'].astype('float')\n",
    "#df_train_woNaN['home_team_history_is_play_home_1'] = df_train_woNaN['home_team_history_is_play_home_1'].astype('int')\n",
    "#print(df_train_woNaN['home_team_history_is_play_home_1'].dtype)\n",
    "\n",
    "for i in range(1,11):\n",
    "    df_train_woNaN['home_team_history_is_play_home_' + str(i)] = df_train_woNaN['home_team_history_is_play_home_' + str(i)].astype('float')\n",
    "    df_train_woNaN['away_team_history_is_play_home_' + str(i)] = df_train_woNaN['away_team_history_is_play_home_' + str(i)].astype('float')\n",
    "    df_train_woNaN['home_team_history_is_play_home_' + str(i)] = df_train_woNaN['home_team_history_is_play_home_' + str(i)].astype('int')\n",
    "    df_train_woNaN['away_team_history_is_play_home_' + str(i)] = df_train_woNaN['away_team_history_is_play_home_' + str(i)].astype('int')\n",
    "    print(df_train_woNaN['home_team_history_is_play_home_' + str(i)].value_counts())\n",
    "    print(df_train_woNaN['away_team_history_is_play_home_' + str(i)].value_counts())\n",
    "    print(df_train_woNaN['home_team_history_is_play_home_' + str(i)].dtype)\n",
    "    print(df_train_woNaN['away_team_history_is_play_home_' + str(i)].dtype)"
   ]
  },
  {
   "cell_type": "code",
   "execution_count": 70,
   "id": "3228ffc2-9a5c-4b9e-8815-bd7b8d0b7348",
   "metadata": {},
   "outputs": [
    {
     "data": {
      "text/plain": [
       "0         0.0\n",
       "1         1.0\n",
       "2         0.0\n",
       "3         0.0\n",
       "4         0.0\n",
       "         ... \n",
       "110932    1.0\n",
       "110934    0.0\n",
       "110935    0.0\n",
       "110936    0.0\n",
       "110937    0.0\n",
       "Name: home_team_history_is_play_home_1, Length: 64117, dtype: object"
      ]
     },
     "execution_count": 70,
     "metadata": {},
     "output_type": "execute_result"
    }
   ],
   "source": [
    "df_train_woNaN['home_team_history_is_play_home_1']"
   ]
  },
  {
   "cell_type": "markdown",
   "id": "125364e5-43be-4ed7-9c22-547c3ae16bf8",
   "metadata": {},
   "source": [
    "# Pre-Processing"
   ]
  },
  {
   "cell_type": "markdown",
   "id": "e241d85e-1546-4091-99d4-1c410fe41764",
   "metadata": {},
   "source": [
    "## Remove not required data"
   ]
  },
  {
   "cell_type": "code",
   "execution_count": 24,
   "id": "5c740645-4152-42ef-ad80-9f078a4a5df2",
   "metadata": {},
   "outputs": [
    {
     "name": "stdout",
     "output_type": "stream",
     "text": [
      "(64117, 104)\n"
     ]
    }
   ],
   "source": [
    "# Remove the DATE columns\n",
    "for col in df_columns:\n",
    "    if 'date' in col:\n",
    "        df.drop(col, axis=1, inplace=True)\n",
    "                \n",
    "# Remove the CUP columns\n",
    "for col in df_columns:\n",
    "    if 'cup' in col:\n",
    "        df.drop(col, axis=1, inplace=True)\n",
    "        \n",
    "# Remove the COACH columns\n",
    "for col in df_columns:\n",
    "    if 'coach' in col:\n",
    "        df.drop(col, axis=1, inplace=True) \n",
    "        \n",
    "# Remove the LEAGUE columns\n",
    "for col in df_columns:\n",
    "    if 'league' in col:\n",
    "        df.drop(col, axis=1, inplace=True) \n",
    "        \n",
    "print(df.shape)"
   ]
  },
  {
   "cell_type": "code",
   "execution_count": 25,
   "id": "27f2a4dd-f092-4e0a-846b-a176f6fc8eb4",
   "metadata": {},
   "outputs": [
    {
     "data": {
      "text/plain": [
       "id                                           11906497\n",
       "target                                           away\n",
       "home_team_name                      Newell's Old Boys\n",
       "away_team_name                            River Plate\n",
       "home_team_history_is_play_home_1                  0.0\n",
       "home_team_history_is_play_home_2                  1.0\n",
       "home_team_history_is_play_home_3                  0.0\n",
       "home_team_history_is_play_home_4                  1.0\n",
       "home_team_history_is_play_home_5                  0.0\n",
       "home_team_history_is_play_home_6                  1.0\n",
       "Name: 0, dtype: object"
      ]
     },
     "execution_count": 25,
     "metadata": {},
     "output_type": "execute_result"
    }
   ],
   "source": [
    "df.iloc[0,0:10]"
   ]
  },
  {
   "cell_type": "markdown",
   "id": "84a2ebdd-2ce9-4c88-9346-34d0f2a87e7d",
   "metadata": {},
   "source": [
    "## Train-Test Split"
   ]
  },
  {
   "cell_type": "code",
   "execution_count": 34,
   "id": "312b1522-606a-4235-9683-40eaa260e231",
   "metadata": {},
   "outputs": [],
   "source": [
    "# Random seed set here for entire notebook\n",
    "seed = 42\n",
    "\n",
    "# Assign the data to x, y\n",
    "y = df.target \n",
    "X = df.iloc[:,4:-1]\n",
    "\n",
    "# Normalize Data\n",
    "scaler = MinMaxScaler()\n",
    "#X_norm = scaler.fit_transform(X)\n",
    "\n",
    "# Split the data..\n",
    "X_train, X_test, y_train, y_test = train_test_split(X, y, test_size=0.3, random_state=seed)"
   ]
  },
  {
   "cell_type": "code",
   "execution_count": 28,
   "id": "8702e6de-df00-4f8f-82b5-c5634d2d72cc",
   "metadata": {},
   "outputs": [
    {
     "data": {
      "text/plain": [
       "array([[0.        , 1.        , 0.        , ..., 0.09908383, 0.04774285,\n",
       "        0.05173912],\n",
       "       [1.        , 0.        , 1.        , ..., 0.15473143, 0.12931077,\n",
       "        0.16196629],\n",
       "       [0.        , 1.        , 0.        , ..., 0.10101384, 0.11706773,\n",
       "        0.10213484],\n",
       "       ...,\n",
       "       [0.        , 0.        , 1.        , ..., 0.06735747, 0.09399555,\n",
       "        0.14872777],\n",
       "       [0.        , 1.        , 0.        , ..., 0.14279482, 0.15800245,\n",
       "        0.10029341],\n",
       "       [0.        , 1.        , 0.        , ..., 0.13888676, 0.13123006,\n",
       "        0.12042594]])"
      ]
     },
     "execution_count": 28,
     "metadata": {},
     "output_type": "execute_result"
    }
   ],
   "source": [
    "X_norm"
   ]
  },
  {
   "cell_type": "markdown",
   "id": "5e0161a0-fedd-4554-92d1-c0abdf6f76eb",
   "metadata": {},
   "source": [
    "# Prediction"
   ]
  },
  {
   "cell_type": "markdown",
   "id": "4d2c92d6-375b-4518-b051-971a00b9d414",
   "metadata": {},
   "source": [
    "## Base Model: SVM"
   ]
  },
  {
   "cell_type": "markdown",
   "id": "c6bf7528-092a-4835-9bf0-4d3289ba39f3",
   "metadata": {},
   "source": [
    "### Fitting"
   ]
  },
  {
   "cell_type": "code",
   "execution_count": 35,
   "id": "031d1004-8a65-47f4-a0bc-95601834bc1d",
   "metadata": {},
   "outputs": [
    {
     "name": "stdout",
     "output_type": "stream",
     "text": [
      "[LibLinear]....................................................................................................\n",
      "optimization finished, #iter = 1000\n",
      "\n",
      "WARNING: reaching max number of iterations\n",
      "Using -s 2 may be faster (also see FAQ)\n",
      "\n",
      "Objective value = -15294.053460\n",
      "nSV = 44731\n",
      "....................................................................................................\n",
      "optimization finished, #iter = 1000\n",
      "\n",
      "WARNING: reaching max number of iterations\n",
      "Using -s 2 may be faster (also see FAQ)\n",
      "\n",
      "Objective value = -15159.582992\n",
      "nSV = 44846\n",
      "....................................................................................................\n",
      "optimization finished, #iter = 1000\n",
      "\n",
      "WARNING: reaching max number of iterations\n",
      "Using -s 2 may be faster (also see FAQ)\n",
      "\n",
      "Objective value = -17563.348444\n",
      "nSV = 44768\n"
     ]
    },
    {
     "data": {
      "text/plain": [
       "LinearSVC(verbose=True)"
      ]
     },
     "execution_count": 35,
     "metadata": {},
     "output_type": "execute_result"
    }
   ],
   "source": [
    "SVM_classifier = svm.LinearSVC(verbose=True)\n",
    "SVM_classifier.fit(X_train, y_train)"
   ]
  },
  {
   "cell_type": "markdown",
   "id": "a42dd360-8338-4767-b70b-2c90039153ab",
   "metadata": {},
   "source": [
    "### Prediction"
   ]
  },
  {
   "cell_type": "code",
   "execution_count": 36,
   "id": "9e9ffc0c-6392-4b5a-a1ea-2ba0ba698b39",
   "metadata": {},
   "outputs": [],
   "source": [
    "y_pred = SVM_classifier.predict(X_test)"
   ]
  },
  {
   "cell_type": "markdown",
   "id": "744323f7-9025-48e8-8815-51308dd4b119",
   "metadata": {},
   "source": [
    "### Evaluation"
   ]
  },
  {
   "cell_type": "code",
   "execution_count": 37,
   "id": "bcca8ad5-7730-44f2-80eb-3c62da6939f3",
   "metadata": {},
   "outputs": [
    {
     "name": "stdout",
     "output_type": "stream",
     "text": [
      "              precision    recall  f1-score   support\n",
      "\n",
      "        home       0.44      0.42      0.43      6114\n",
      "        draw       0.27      0.02      0.03      4899\n",
      "        away       0.49      0.78      0.60      8223\n",
      "\n",
      "    accuracy                           0.47     19236\n",
      "   macro avg       0.40      0.40      0.35     19236\n",
      "weighted avg       0.42      0.47      0.40     19236\n",
      "\n"
     ]
    }
   ],
   "source": [
    "target_names = ['home', 'draw', 'away']\n",
    "print(classification_report(y_test, y_pred, target_names=target_names))"
   ]
  },
  {
   "cell_type": "code",
   "execution_count": 38,
   "id": "4fc9ced6-997b-4b1d-b8eb-b3198b085b62",
   "metadata": {},
   "outputs": [
    {
     "data": {
      "image/png": "[encoded data removed]",
      "text/plain": [
       "<Figure size 432x288 with 2 Axes>"
      ]
     },
     "metadata": {
      "needs_background": "light"
     },
     "output_type": "display_data"
    },
    {
     "data": {
      "image/png": "[encoded data removed]",
      "text/plain": [
       "<Figure size 432x288 with 2 Axes>"
      ]
     },
     "metadata": {
      "needs_background": "light"
     },
     "output_type": "display_data"
    }
   ],
   "source": [
    "titles_options = [(\"Confusion matrix, without normalization\", None),\n",
    "    (\"Normalized confusion matrix\", \"true\")]\n",
    "\n",
    "class_names = target_names\n",
    "for title, normalize in titles_options:\n",
    "    disp = ConfusionMatrixDisplay.from_estimator(\n",
    "        SVM_classifier,\n",
    "        X_test,\n",
    "        y_test,\n",
    "        display_labels=class_names,\n",
    "        cmap=plt.cm.Blues,\n",
    "        normalize=normalize,\n",
    "    )\n",
    "    disp.ax_.set_title(title)\n",
    "\n",
    "    #print(title)\n",
    "    #print(disp.confusion_matrix)\n",
    "\n",
    "plt.show()"
   ]
  },
  {
   "cell_type": "markdown",
   "id": "e2356914-8917-48fa-be1c-080f12a5ea1e",
   "metadata": {},
   "source": [
    "## Advanced Model: CNN"
   ]
  },
  {
   "cell_type": "markdown",
   "id": "e21e2d16-2be9-4e75-a4fc-ae8bf2e76abf",
   "metadata": {},
   "source": [
    "## Fitting"
   ]
  },
  {
   "cell_type": "markdown",
   "id": "92798cdf-cbb6-4154-8477-021e70b2a58d",
   "metadata": {},
   "source": [
    "## Prediction"
   ]
  },
  {
   "cell_type": "markdown",
   "id": "4a1bb010-b1de-4ffd-88e5-b0362c93ede4",
   "metadata": {},
   "source": [
    "## Evaluation"
   ]
  },
  {
   "cell_type": "markdown",
   "id": "0fbb5448-8b10-4f9f-83f4-797343d89187",
   "metadata": {},
   "source": [
    "# Visualisation"
   ]
  },
  {
   "cell_type": "markdown",
   "id": "45830abb-c4ae-4133-beed-6783e13f13e0",
   "metadata": {},
   "source": [
    "# Output"
   ]
  },
  {
   "cell_type": "markdown",
   "id": "6af1681a-5e7b-42a8-bf8f-60dcebe3b2a2",
   "metadata": {},
   "source": [
    "## Transfrom according sample submission"
   ]
  },
  {
   "cell_type": "code",
   "execution_count": null,
   "id": "6eab66ef-ae6e-4107-bfdf-e2de846c7876",
   "metadata": {},
   "outputs": [],
   "source": []
  },
  {
   "cell_type": "code",
   "execution_count": null,
   "id": "3efff586-7449-41ec-940a-35fedc4311b2",
   "metadata": {},
   "outputs": [],
   "source": []
  }
 ],
 "metadata": {
  "kernelspec": {
   "display_name": "Python 3 (ipykernel)",
   "language": "python",
   "name": "python3"
  },
  "language_info": {
   "codemirror_mode": {
    "name": "ipython",
    "version": 3
   },
   "file_extension": ".py",
   "mimetype": "text/x-python",
   "name": "python",
   "nbconvert_exporter": "python",
   "pygments_lexer": "ipython3",
   "version": "3.9.8"
  },
  "toc-autonumbering": true,
  "toc-showcode": false,
  "toc-showmarkdowntxt": true,
  "toc-showtags": false
 },
 "nbformat": 4,
 "nbformat_minor": 5
}
